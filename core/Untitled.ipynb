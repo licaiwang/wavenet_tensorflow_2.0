{
 "cells": [
  {
   "cell_type": "code",
   "execution_count": 9,
   "metadata": {},
   "outputs": [],
   "source": [
    "def normalize(data):\n",
    "    temp = np.float32(data) - np.min(data)\n",
    "    out = (temp / np.max(temp) - 0.5) * 2\n",
    "    return out"
   ]
  },
  {
   "cell_type": "code",
   "execution_count": 10,
   "metadata": {},
   "outputs": [],
   "source": [
    "import numpy as np\n",
    "from scipy.io import wavfile\n",
    "def make_batch(path):\n",
    "    raw_data = wavfile.read(path)[1][:, 0]\n",
    "    data = normalize(raw_data)\n",
    "\n",
    "    # bins 值在 -1 到 +1 之間 ( 取不到 +1 )， 切成長度為 256\n",
    "    # Ex：(-1, -0.003......0.999)\n",
    "    # 取值  在[-∞ ,-1) 區間, return 0\n",
    "    #       在[ -1,1)區間, 在哪個區間的索引，最低為 1\n",
    "    #       在[1,+∞ )區間，return 1\n",
    "    bins = np.linspace(-1, 1, 256)\n",
    "    # 把 bins 的值取出來\n",
    "    inputs = bins[(np.digitize(data[0:-1], bins, right=False) - 1)].reshape(1, -1, 1)\n",
    "    # data_mu_law = (np.sign(data) * (np.log(1 + 255 * np.abs(data)) / np.log(1 + 255)))[0:-1].reshape(1, -1, 1)\n",
    "    # 輸入往前移一個就是要預測的 0~255\n",
    "    targets = (np.digitize(data[1::], bins, right=False) - 1).reshape(1, -1)\n",
    "    \n",
    "\n",
    "    return inputs, targets"
   ]
  },
  {
   "cell_type": "code",
   "execution_count": null,
   "metadata": {},
   "outputs": [],
   "source": [
    "step = 7"
   ]
  },
  {
   "cell_type": "code",
   "execution_count": 11,
   "metadata": {},
   "outputs": [],
   "source": [
    "inputs,targets = make_batch('../data/voice.wav')"
   ]
  },
  {
   "cell_type": "code",
   "execution_count": 14,
   "metadata": {},
   "outputs": [
    {
     "data": {
      "text/plain": [
       "array([-0.30196078])"
      ]
     },
     "execution_count": 14,
     "metadata": {},
     "output_type": "execute_result"
    }
   ],
   "source": [
    "inputs[0][0]"
   ]
  },
  {
   "cell_type": "code",
   "execution_count": null,
   "metadata": {},
   "outputs": [],
   "source": [
    "result = np.array([data[index:index + (step+1)] for index in range(len(data) - (step+1) )])"
   ]
  }
 ],
 "metadata": {
  "kernelspec": {
   "display_name": "Python 3",
   "language": "python",
   "name": "python3"
  },
  "language_info": {
   "codemirror_mode": {
    "name": "ipython",
    "version": 3
   },
   "file_extension": ".py",
   "mimetype": "text/x-python",
   "name": "python",
   "nbconvert_exporter": "python",
   "pygments_lexer": "ipython3",
   "version": "3.7.9"
  }
 },
 "nbformat": 4,
 "nbformat_minor": 4
}
